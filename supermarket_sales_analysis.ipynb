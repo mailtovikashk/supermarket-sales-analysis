{
 "cells": [
  {
   "cell_type": "markdown",
   "metadata": {},
   "source": [
    "# 🛒 Supermarket Sales Analysis\n",
    "This notebook analyzes supermarket sales data using Python and Pandas."
   ]
  },
  {
   "cell_type": "code",
   "execution_count": null,
   "metadata": {},
   "outputs": [],
   "source": [
    "import pandas as pd\n",
    "import matplotlib.pyplot as plt"
   ]
  },
  {
   "cell_type": "markdown",
   "metadata": {},
   "source": [
    "## 📥 Load the Data"
   ]
  },
  {
   "cell_type": "code",
   "execution_count": null,
   "metadata": {},
   "outputs": [],
   "source": [
    "data = pd.DataFrame({\n",
    "    'Date': ['2025-01-01', '2025-01-01', '2025-01-02', '2025-01-02', '2025-01-03', '2025-01-03'],\n",
    "    'Product': ['Apples', 'Bananas', 'Apples', 'Bananas', 'Apples', 'Bananas'],\n",
    "    'Units Sold': [30, 20, 25, 30, 20, 25],\n",
    "    'Price per Unit': [0.5, 0.3, 0.5, 0.3, 0.5, 0.3]\n",
    "})\n",
    "\n",
    "# Add total sales column\n",
    "data['Total Sales'] = data['Units Sold'] * data['Price per Unit']\n",
    "data"
   ]
  },
  {
   "cell_type": "markdown",
   "metadata": {},
   "source": [
    "## 📊 Sales Summary by Product"
   ]
  },
  {
   "cell_type": "code",
   "execution_count": null,
   "metadata": {},
   "outputs": [],
   "source": [
    "summary = data.groupby('Product')['Total Sales'].sum().reset_index()\n",
    "summary"
   ]
  },
  {
   "cell_type": "markdown",
   "metadata": {},
   "source": [
    "## 📈 Plotting Total Sales"
   ]
  },
  {
   "cell_type": "code",
   "execution_count": null,
   "metadata": {},
   "outputs": [],
   "source": [
    "plt.bar(summary['Product'], summary['Total Sales'], color=['red', 'yellow'])\n",
    "plt.title('Total Sales by Product')\n",
    "plt.ylabel('Sales in $')\n",
    "plt.show()"
   ]
  }
 ],
 "metadata": {
  "kernelspec": {
   "display_name": "Python 3",
   "language": "python",
   "name": "python3"
  },
  "language_info": {
   "name": "python",
   "version": ""
  }
 },
 "nbformat": 4,
 "nbformat_minor": 2
}
